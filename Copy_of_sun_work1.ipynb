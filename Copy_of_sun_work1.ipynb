{
  "nbformat": 4,
  "nbformat_minor": 0,
  "metadata": {
    "colab": {
      "provenance": [],
      "authorship_tag": "ABX9TyMyEvjy8T9N8CCeCtV4JxcK",
      "include_colab_link": true
    },
    "kernelspec": {
      "name": "python3",
      "display_name": "Python 3"
    },
    "language_info": {
      "name": "python"
    }
  },
  "cells": [
    {
      "cell_type": "markdown",
      "metadata": {
        "id": "view-in-github",
        "colab_type": "text"
      },
      "source": [
        "<a href=\"https://colab.research.google.com/github/gertrudehattoh/test_repo/blob/master/Copy_of_sun_work1.ipynb\" target=\"_parent\"><img src=\"https://colab.research.google.com/assets/colab-badge.svg\" alt=\"Open In Colab\"/></a>"
      ]
    },
    {
      "cell_type": "markdown",
      "source": [
        "Create a function called model that takes a parameter, color. If color is yellow, output banana, if red output, apple. If anything else, output, herh stop fooling"
      ],
      "metadata": {
        "id": "snCdBzlUKgp-"
      }
    },
    {
      "cell_type": "code",
      "execution_count": null,
      "metadata": {
        "colab": {
          "base_uri": "https://localhost:8080/"
        },
        "id": "GvbOlJ07J4Tb",
        "outputId": "94ae13d9-8e09-4533-bf60-0299ea40b93a"
      },
      "outputs": [
        {
          "output_type": "stream",
          "name": "stdout",
          "text": [
            "Enter a color: blue\n",
            "herh,stop fooling\n"
          ]
        }
      ],
      "source": [
        "response = input('Enter a color: ')\n",
        "def model(color):\n",
        "  if response== 'yellow':\n",
        "    print('banana')\n",
        "  elif response=='red':\n",
        "    print('apple')\n",
        "  else:\n",
        "    print('herh,stop fooling')\n",
        "\n",
        "model('red')\n"
      ]
    },
    {
      "cell_type": "code",
      "source": [
        "def model(color):\n",
        "  if color== 'yellow':\n",
        "    return 'banana'\n",
        "  elif color=='red':\n",
        "    return 'Apple'\n",
        "  else:\n",
        "    print('herh,stop fooling')\n",
        "\n",
        "model('yellow')\n"
      ],
      "metadata": {
        "id": "rN9pkyuGL-Zv",
        "outputId": "748e7bbb-aef8-40c7-973b-bc4b9f934d39",
        "colab": {
          "base_uri": "https://localhost:8080/",
          "height": 37
        }
      },
      "execution_count": null,
      "outputs": [
        {
          "output_type": "execute_result",
          "data": {
            "text/plain": [
              "'banana'"
            ],
            "application/vnd.google.colaboratory.intrinsic+json": {
              "type": "string"
            }
          },
          "metadata": {},
          "execution_count": 3
        }
      ]
    },
    {
      "cell_type": "code",
      "source": [],
      "metadata": {
        "id": "FJ4VnPKDj33m"
      },
      "execution_count": null,
      "outputs": []
    }
  ]
}