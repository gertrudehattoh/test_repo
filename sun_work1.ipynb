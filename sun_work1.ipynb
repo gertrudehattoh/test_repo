{
  "nbformat": 4,
  "nbformat_minor": 0,
  "metadata": {
    "colab": {
      "provenance": [],
      "authorship_tag": "ABX9TyOB3bxwzuFh5fGcYX48CGKZ",
      "include_colab_link": true
    },
    "kernelspec": {
      "name": "python3",
      "display_name": "Python 3"
    },
    "language_info": {
      "name": "python"
    }
  },
  "cells": [
    {
      "cell_type": "markdown",
      "metadata": {
        "id": "view-in-github",
        "colab_type": "text"
      },
      "source": [
        "<a href=\"https://colab.research.google.com/github/gertrudehattoh/test_repo/blob/master/sun_work1.ipynb\" target=\"_parent\"><img src=\"https://colab.research.google.com/assets/colab-badge.svg\" alt=\"Open In Colab\"/></a>"
      ]
    },
    {
      "cell_type": "markdown",
      "source": [
        "Create a function called model that takes a parameter, color. If color is yellow, output banana, if red output, apple. If anything else, output, herh stop fooling"
      ],
      "metadata": {
        "id": "snCdBzlUKgp-"
      }
    },
    {
      "cell_type": "code",
      "execution_count": null,
      "metadata": {
        "colab": {
          "base_uri": "https://localhost:8080/"
        },
        "id": "GvbOlJ07J4Tb",
        "outputId": "2f2ceaee-dd51-4747-89a4-e22128f2308c"
      },
      "outputs": [
        {
          "output_type": "stream",
          "name": "stdout",
          "text": [
            "Enter a color: purple\n",
            "herh,stop fooling\n"
          ]
        }
      ],
      "source": [
        "response = input('Enter a color: ')\n",
        "def model():\n",
        "  if response== 'yellow':\n",
        "    print('banana')\n",
        "  elif response=='red':\n",
        "    print('apple')\n",
        "  else:\n",
        "    print('herh,stop fooling')\n",
        "\n",
        "model()\n"
      ]
    },
    {
      "cell_type": "code",
      "source": [],
      "metadata": {
        "id": "rN9pkyuGL-Zv"
      },
      "execution_count": null,
      "outputs": []
    }
  ]
}